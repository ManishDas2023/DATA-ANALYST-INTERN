{
  "cells": [
    {
      "cell_type": "markdown",
      "metadata": {
        "id": "view-in-github",
        "colab_type": "text"
      },
      "source": [
        "<a href=\"https://colab.research.google.com/github/ManishDas2023/DATA-ANALYST-INTERN/blob/main/site/en/tutorials/quickstart_colab.ipynb\" target=\"_parent\"><img src=\"https://colab.research.google.com/assets/colab-badge.svg\" alt=\"Open In Colab\"/></a>"
      ]
    },
    {
      "cell_type": "markdown",
      "metadata": {
        "id": "-QhPWE1lwZHH"
      },
      "source": [
        "# Gemini API Python quickstart"
      ]
    },
    {
      "cell_type": "code",
      "execution_count": 26,
      "metadata": {
        "id": "J6Pd9SFJ1yVi"
      },
      "outputs": [],
      "source": [
        "!pip install -q -U google-generativeai"
      ]
    },
    {
      "cell_type": "code",
      "execution_count": 27,
      "metadata": {
        "id": "HTiaTu6O1LRC"
      },
      "outputs": [],
      "source": [
        "# Import the Python SDK\n",
        "import google.generativeai as genai\n",
        "# Used to securely store your API key\n",
        "from google.colab import userdata\n",
        "\n",
        "GOOGLE_API_KEY=userdata.get('GOOGLE_API_KEY')\n",
        "genai.configure(api_key=GOOGLE_API_KEY)"
      ]
    },
    {
      "cell_type": "code",
      "execution_count": 28,
      "metadata": {
        "id": "s-JqXcDe2hZ_"
      },
      "outputs": [],
      "source": [
        "model = genai.GenerativeModel('gemini-pro')"
      ]
    },
    {
      "cell_type": "code",
      "source": [
        "character_name = \"Elara\"\n",
        "setting = \"a magical forest\"\n",
        "\n",
        "prompt = f\"Write a story about {character_name}, a young fairy who lives in {setting}. The story should include a wise old tree and a mischievous sprite.\"\n",
        "response = model.generate_content(prompt)\n",
        "print(response.text)"
      ],
      "metadata": {
        "colab": {
          "base_uri": "https://localhost:8080/",
          "height": 367
        },
        "id": "SSGRNZP8hgjv",
        "outputId": "9f941a19-21cb-4af2-f442-3821c84d8991"
      },
      "execution_count": 21,
      "outputs": [
        {
          "output_type": "stream",
          "name": "stdout",
          "text": [
            "In the verdant heart of Veridia Forest, where sunlight danced through emerald canopies and the air hummed with the whisper of ancient trees, there lived an inquisitive young fairy named Elara. Her wings, as delicate as the petals of the forest's rarest bloom, fluttered with an eager anticipation for every new adventure.\n",
            "\n",
            "One sun-dappled morning, as Elara flitted among the towering beech trees, she stumbled upon a majestic oak, its gnarled roots reaching deep into the forest floor. As she approached, she felt a sense of reverence wash over her. This was not just any tree; it was the Tree of Ages, said to hold untold wisdom within its ancient bark.\n",
            "\n",
            "\"Wise Tree,\" Elara greeted, her voice as sweet as birdsong, \"I have come with a question that has troubled my mind.\"\n",
            "\n",
            "The Tree of Ages rustled its leaves in a gentle reply. \"Speak, young fairy, and I shall share the wisdom I have gathered through the centuries.\"\n",
            "\n",
            "Elara shared her worries about the mischief that had been plaguing the forest lately. A mischievous sprite had been playing pranks on the other fairies, hiding their dewdrop necklaces and tangling their moonbeam garlands.\n",
            "\n",
            "\"Fret not, Elara,\" the Tree of Ages said, its voice soothing. \"Every forest has its share of mischief, but it is in finding a balance between laughter and responsibility that true harmony is born.\"\n",
            "\n",
            "As Elara bid farewell to the wise tree, her heart felt a glimmer of hope. She sought out the sprite, a tiny creature with a mischievous glint in its emerald eyes.\n",
            "\n",
            "\"Sprite,\" she said, \"we can have our fun, but we must also be mindful of the forest's peace. Let us use our mischief to spread joy, not chaos.\"\n",
            "\n",
            "The sprite's laughter tinkled in the air. \"You make a wise point, Elara. Let us be the merry pranksters of Veridia Forest, bringing smiles without causing harm.\"\n",
            "\n",
            "And so, Elara and the sprite became an unlikely duo, their playful antics bringing laughter to the forest's inhabitants while respecting its ancient ways. And as the sun began its descent, casting long shadows across Veridia, Elara knew that she had found not only a mischievous companion but also a deeper understanding of her magical home.\n"
          ]
        }
      ]
    },
    {
      "cell_type": "code",
      "source": [
        "from google.colab import files\n",
        "import pandas as pd\n",
        "import io\n",
        "\n",
        "# Upload the CSV file\n",
        "uploaded = files.upload()\n",
        "\n",
        "# Get the actual filename from the uploaded dictionary\n",
        "filename = list(uploaded.keys())[0]  # Get the first (and likely only) key\n",
        "\n",
        "# Read the uploaded CSV file into a DataFrame, using the actual filename\n",
        "df = pd.read_csv(io.BytesIO(uploaded[filename]))"
      ],
      "metadata": {
        "colab": {
          "base_uri": "https://localhost:8080/",
          "height": 73
        },
        "id": "y2YeSum5yZF9",
        "outputId": "4bc40d9b-bf17-41b4-982b-c3061463701d"
      },
      "execution_count": 29,
      "outputs": [
        {
          "output_type": "display_data",
          "data": {
            "text/plain": [
              "<IPython.core.display.HTML object>"
            ],
            "text/html": [
              "\n",
              "     <input type=\"file\" id=\"files-b4a4519c-19a6-46c2-b70e-650e00157c32\" name=\"files[]\" multiple disabled\n",
              "        style=\"border:none\" />\n",
              "     <output id=\"result-b4a4519c-19a6-46c2-b70e-650e00157c32\">\n",
              "      Upload widget is only available when the cell has been executed in the\n",
              "      current browser session. Please rerun this cell to enable.\n",
              "      </output>\n",
              "      <script>// Copyright 2017 Google LLC\n",
              "//\n",
              "// Licensed under the Apache License, Version 2.0 (the \"License\");\n",
              "// you may not use this file except in compliance with the License.\n",
              "// You may obtain a copy of the License at\n",
              "//\n",
              "//      http://www.apache.org/licenses/LICENSE-2.0\n",
              "//\n",
              "// Unless required by applicable law or agreed to in writing, software\n",
              "// distributed under the License is distributed on an \"AS IS\" BASIS,\n",
              "// WITHOUT WARRANTIES OR CONDITIONS OF ANY KIND, either express or implied.\n",
              "// See the License for the specific language governing permissions and\n",
              "// limitations under the License.\n",
              "\n",
              "/**\n",
              " * @fileoverview Helpers for google.colab Python module.\n",
              " */\n",
              "(function(scope) {\n",
              "function span(text, styleAttributes = {}) {\n",
              "  const element = document.createElement('span');\n",
              "  element.textContent = text;\n",
              "  for (const key of Object.keys(styleAttributes)) {\n",
              "    element.style[key] = styleAttributes[key];\n",
              "  }\n",
              "  return element;\n",
              "}\n",
              "\n",
              "// Max number of bytes which will be uploaded at a time.\n",
              "const MAX_PAYLOAD_SIZE = 100 * 1024;\n",
              "\n",
              "function _uploadFiles(inputId, outputId) {\n",
              "  const steps = uploadFilesStep(inputId, outputId);\n",
              "  const outputElement = document.getElementById(outputId);\n",
              "  // Cache steps on the outputElement to make it available for the next call\n",
              "  // to uploadFilesContinue from Python.\n",
              "  outputElement.steps = steps;\n",
              "\n",
              "  return _uploadFilesContinue(outputId);\n",
              "}\n",
              "\n",
              "// This is roughly an async generator (not supported in the browser yet),\n",
              "// where there are multiple asynchronous steps and the Python side is going\n",
              "// to poll for completion of each step.\n",
              "// This uses a Promise to block the python side on completion of each step,\n",
              "// then passes the result of the previous step as the input to the next step.\n",
              "function _uploadFilesContinue(outputId) {\n",
              "  const outputElement = document.getElementById(outputId);\n",
              "  const steps = outputElement.steps;\n",
              "\n",
              "  const next = steps.next(outputElement.lastPromiseValue);\n",
              "  return Promise.resolve(next.value.promise).then((value) => {\n",
              "    // Cache the last promise value to make it available to the next\n",
              "    // step of the generator.\n",
              "    outputElement.lastPromiseValue = value;\n",
              "    return next.value.response;\n",
              "  });\n",
              "}\n",
              "\n",
              "/**\n",
              " * Generator function which is called between each async step of the upload\n",
              " * process.\n",
              " * @param {string} inputId Element ID of the input file picker element.\n",
              " * @param {string} outputId Element ID of the output display.\n",
              " * @return {!Iterable<!Object>} Iterable of next steps.\n",
              " */\n",
              "function* uploadFilesStep(inputId, outputId) {\n",
              "  const inputElement = document.getElementById(inputId);\n",
              "  inputElement.disabled = false;\n",
              "\n",
              "  const outputElement = document.getElementById(outputId);\n",
              "  outputElement.innerHTML = '';\n",
              "\n",
              "  const pickedPromise = new Promise((resolve) => {\n",
              "    inputElement.addEventListener('change', (e) => {\n",
              "      resolve(e.target.files);\n",
              "    });\n",
              "  });\n",
              "\n",
              "  const cancel = document.createElement('button');\n",
              "  inputElement.parentElement.appendChild(cancel);\n",
              "  cancel.textContent = 'Cancel upload';\n",
              "  const cancelPromise = new Promise((resolve) => {\n",
              "    cancel.onclick = () => {\n",
              "      resolve(null);\n",
              "    };\n",
              "  });\n",
              "\n",
              "  // Wait for the user to pick the files.\n",
              "  const files = yield {\n",
              "    promise: Promise.race([pickedPromise, cancelPromise]),\n",
              "    response: {\n",
              "      action: 'starting',\n",
              "    }\n",
              "  };\n",
              "\n",
              "  cancel.remove();\n",
              "\n",
              "  // Disable the input element since further picks are not allowed.\n",
              "  inputElement.disabled = true;\n",
              "\n",
              "  if (!files) {\n",
              "    return {\n",
              "      response: {\n",
              "        action: 'complete',\n",
              "      }\n",
              "    };\n",
              "  }\n",
              "\n",
              "  for (const file of files) {\n",
              "    const li = document.createElement('li');\n",
              "    li.append(span(file.name, {fontWeight: 'bold'}));\n",
              "    li.append(span(\n",
              "        `(${file.type || 'n/a'}) - ${file.size} bytes, ` +\n",
              "        `last modified: ${\n",
              "            file.lastModifiedDate ? file.lastModifiedDate.toLocaleDateString() :\n",
              "                                    'n/a'} - `));\n",
              "    const percent = span('0% done');\n",
              "    li.appendChild(percent);\n",
              "\n",
              "    outputElement.appendChild(li);\n",
              "\n",
              "    const fileDataPromise = new Promise((resolve) => {\n",
              "      const reader = new FileReader();\n",
              "      reader.onload = (e) => {\n",
              "        resolve(e.target.result);\n",
              "      };\n",
              "      reader.readAsArrayBuffer(file);\n",
              "    });\n",
              "    // Wait for the data to be ready.\n",
              "    let fileData = yield {\n",
              "      promise: fileDataPromise,\n",
              "      response: {\n",
              "        action: 'continue',\n",
              "      }\n",
              "    };\n",
              "\n",
              "    // Use a chunked sending to avoid message size limits. See b/62115660.\n",
              "    let position = 0;\n",
              "    do {\n",
              "      const length = Math.min(fileData.byteLength - position, MAX_PAYLOAD_SIZE);\n",
              "      const chunk = new Uint8Array(fileData, position, length);\n",
              "      position += length;\n",
              "\n",
              "      const base64 = btoa(String.fromCharCode.apply(null, chunk));\n",
              "      yield {\n",
              "        response: {\n",
              "          action: 'append',\n",
              "          file: file.name,\n",
              "          data: base64,\n",
              "        },\n",
              "      };\n",
              "\n",
              "      let percentDone = fileData.byteLength === 0 ?\n",
              "          100 :\n",
              "          Math.round((position / fileData.byteLength) * 100);\n",
              "      percent.textContent = `${percentDone}% done`;\n",
              "\n",
              "    } while (position < fileData.byteLength);\n",
              "  }\n",
              "\n",
              "  // All done.\n",
              "  yield {\n",
              "    response: {\n",
              "      action: 'complete',\n",
              "    }\n",
              "  };\n",
              "}\n",
              "\n",
              "scope.google = scope.google || {};\n",
              "scope.google.colab = scope.google.colab || {};\n",
              "scope.google.colab._files = {\n",
              "  _uploadFiles,\n",
              "  _uploadFilesContinue,\n",
              "};\n",
              "})(self);\n",
              "</script> "
            ]
          },
          "metadata": {}
        },
        {
          "output_type": "stream",
          "name": "stdout",
          "text": [
            "Saving test.csv to test (2).csv\n"
          ]
        }
      ]
    },
    {
      "cell_type": "code",
      "source": [
        "print(df)"
      ],
      "metadata": {
        "id": "1neteyspy5jw"
      },
      "execution_count": null,
      "outputs": []
    },
    {
      "cell_type": "code",
      "source": [
        "import pandas as pd\n",
        "# Example DataFrame\n",
        "df1 = pd.DataFrame(df)\n",
        "\n",
        "# Convert DataFrame to JSON\n",
        "df_json = df1.to_json(orient='records')"
      ],
      "metadata": {
        "id": "8ryqCEPCzp8P"
      },
      "execution_count": 32,
      "outputs": []
    },
    {
      "cell_type": "code",
      "source": [
        "print(df_json)"
      ],
      "metadata": {
        "colab": {
          "base_uri": "https://localhost:8080/"
        },
        "id": "H6y5Bl7GzvRH",
        "outputId": "1f163715-925c-413e-89a2-cf3bc536daea"
      },
      "execution_count": 33,
      "outputs": [
        {
          "output_type": "stream",
          "name": "stdout",
          "text": [
            "[{\"CAMPAIGNS\":\"VIDEO\",\"IMPRESSIONS\":2301934,\"CLICKS\":267,\"COMPLETED VIEWS\":2221755,\"REACH\":593649,\"CTR\":\"0.01%\",\"FREQUENCY\":3.88,\"VTR\":\"96.52%\"},{\"CAMPAIGNS\":\"BVOD\",\"IMPRESSIONS\":399436,\"CLICKS\":10,\"COMPLETED VIEWS\":384884,\"REACH\":188425,\"CTR\":\"0.0%\",\"FREQUENCY\":2.12,\"VTR\":\"96.36%\"}]\n"
          ]
        }
      ]
    },
    {
      "cell_type": "code",
      "source": [
        "# Prepare your prompt using the DataFrame data\n",
        "prompt = f\"Analyze and summarize the following data: {df_json}\"\n",
        "\n",
        "response = model.generate_content(prompt)\n",
        "\n",
        "print(response.text)"
      ],
      "metadata": {
        "colab": {
          "base_uri": "https://localhost:8080/",
          "height": 488
        },
        "id": "cqIs9xoGzxKL",
        "outputId": "0006d1cb-008c-4b6e-8c6f-7a8efc875a9d"
      },
      "execution_count": 34,
      "outputs": [
        {
          "output_type": "stream",
          "name": "stdout",
          "text": [
            "**Summary:**\n",
            "\n",
            "Two video advertising campaigns, labeled \"VIDEO\" and \"BVOD,\" are analyzed based on their performance metrics.\n",
            "\n",
            "**Campaign Performance:**\n",
            "\n",
            "| Metric | VIDEO | BVOD |\n",
            "|---|---|---|\n",
            "| Impressions | 2,301,934 | 399,436 |\n",
            "| Clicks | 267 | 10 |\n",
            "| Completed Views | 2,221,755 | 384,884 |\n",
            "| Reach | 593,649 | 188,425 |\n",
            "| CTR | 0.01% | 0.0% |\n",
            "| Frequency | 3.88 | 2.12 |\n",
            "| VTR | 96.52% | 96.36% |\n",
            "\n",
            "**Analysis:**\n",
            "\n",
            "* The \"VIDEO\" campaign had a significantly higher number of impressions, clicks, and completed views than the \"BVOD\" campaign.\n",
            "* Both campaigns had low click-through rates (CTR) of 0.01% and 0.0%, indicating limited viewer interaction.\n",
            "* The \"VIDEO\" campaign had a higher frequency, meaning viewers were exposed to the ad more often on average.\n",
            "* Both campaigns achieved high view-through rates (VTR) of over 96%, suggesting that viewers generally watched a significant portion of the ads.\n",
            "\n",
            "**Conclusion:**\n",
            "\n",
            "The \"VIDEO\" campaign performed better in terms of overall reach and engagement metrics. Despite the low CTR, the high VTR indicates that the ads were effective in capturing viewer attention. The \"BVOD\" campaign had a limited impact, with low impressions, clicks, and reach.\n"
          ]
        }
      ]
    },
    {
      "cell_type": "code",
      "source": [
        "import pandas as pd\n",
        "import json\n",
        "df = pd.read_json(df_json)\n",
        "\n",
        "# Specify the columns you want to analyze\n",
        "columns_to_analyze = ['CHANNELS', 'IMPRESSIONS', 'COMPLETED VIEWS']\n",
        "\n",
        "# Prepare your prompt using the specified column data\n",
        "prompt = f\"Analyze and summarize the following data from the columns {', '.join(columns_to_analyze)} in two lines: {df}\"\n",
        "\n",
        "# Generate content with the model (assuming 'model' is already defined)\n",
        "response = model.generate_content(prompt)\n",
        "\n",
        "# Print the response\n",
        "print(response.text)"
      ],
      "metadata": {
        "colab": {
          "base_uri": "https://localhost:8080/",
          "height": 89
        },
        "id": "-T6J2pmu1KvV",
        "outputId": "ea542a8a-4edd-4774-cfac-2071bdbc22b4"
      },
      "execution_count": 8,
      "outputs": [
        {
          "output_type": "stream",
          "name": "stderr",
          "text": [
            "<ipython-input-8-00ae4ee36f70>:3: FutureWarning: Passing literal json to 'read_json' is deprecated and will be removed in a future version. To read from a literal string, wrap it in a 'StringIO' object.\n",
            "  df = pd.read_json(df_json)\n"
          ]
        },
        {
          "output_type": "stream",
          "name": "stdout",
          "text": [
            "The VIDEO campaign had significantly higher impressions (2301934) and completed views (2221755) compared to the BVOD campaign (399436 and 384884). However, the BVOD campaign had a higher click-through rate (CTR) of 0.01% versus 0.0% for the VIDEO campaign.\n"
          ]
        }
      ]
    },
    {
      "cell_type": "code",
      "source": [
        "!pip install python-pptx"
      ],
      "metadata": {
        "colab": {
          "base_uri": "https://localhost:8080/"
        },
        "id": "xDAhPWjfLHBx",
        "outputId": "1d365aa8-55b1-4e29-f20a-682b0966d3c5"
      },
      "execution_count": 35,
      "outputs": [
        {
          "output_type": "stream",
          "name": "stdout",
          "text": [
            "Requirement already satisfied: python-pptx in /usr/local/lib/python3.10/dist-packages (1.0.2)\n",
            "Requirement already satisfied: Pillow>=3.3.2 in /usr/local/lib/python3.10/dist-packages (from python-pptx) (11.0.0)\n",
            "Requirement already satisfied: XlsxWriter>=0.5.7 in /usr/local/lib/python3.10/dist-packages (from python-pptx) (3.2.0)\n",
            "Requirement already satisfied: lxml>=3.1.0 in /usr/local/lib/python3.10/dist-packages (from python-pptx) (5.3.0)\n",
            "Requirement already satisfied: typing-extensions>=4.9.0 in /usr/local/lib/python3.10/dist-packages (from python-pptx) (4.12.2)\n"
          ]
        }
      ]
    },
    {
      "cell_type": "code",
      "source": [
        "print(df1)"
      ],
      "metadata": {
        "colab": {
          "base_uri": "https://localhost:8080/"
        },
        "id": "1kRzPyQDPJft",
        "outputId": "d84083fd-5b52-42ba-ded9-2149a3333850"
      },
      "execution_count": 17,
      "outputs": [
        {
          "output_type": "stream",
          "name": "stdout",
          "text": [
            "  CAMPAIGNS  IMPRESSIONS  CLICKS  COMPLETED VIEWS   REACH    CTR  FREQUENCY  \\\n",
            "0     VIDEO      2301934     267          2221755  593649  0.01%       3.88   \n",
            "1      BVOD       399436      10           384884  188425   0.0%       2.12   \n",
            "\n",
            "      VTR  \n",
            "0  96.52%  \n",
            "1  96.36%  \n"
          ]
        }
      ]
    },
    {
      "cell_type": "code",
      "source": [
        "import pandas as pd\n",
        "from pptx import Presentation\n",
        "from pptx.util import Inches, Pt, Cm  # Import Inches and Cm for measurements\n",
        "from pptx.dml.color import RGBColor\n",
        "from google.colab import files\n",
        "\n",
        "# Step 1: Upload the PowerPoint file\n",
        "uploaded = files.upload()\n",
        "\n",
        "# Get the filename of the uploaded file\n",
        "for filename in uploaded.keys():\n",
        "    print(f'Uploaded file: {filename}')\n",
        "    ppt_file_path = filename  # Store the filename for later use\n",
        "\n",
        "# Step 2: Load the uploaded PowerPoint presentation\n",
        "presentation = Presentation(ppt_file_path)\n",
        "\n",
        "# Step 3: Access the first slide in the presentation\n",
        "slide = presentation.slides[0]  # Accessing the first slide (index 0)\n",
        "\n",
        "# Define table dimensions and position\n",
        "rows, cols = df1.shape[0] + 1, df1.shape[1]  # +1 for header row\n",
        "table_width = Cm(47)   # Set desired width of the table\n",
        "table_height = Cm(14)  # Set desired height of the table\n",
        "left = (presentation.slide_width - table_width) / 2  # Center horizontally\n",
        "top = Inches(5)           # Set top position\n",
        "\n",
        "# Add a table to the first slide\n",
        "table = slide.shapes.add_table(rows, cols, left, top, table_width, table_height).table\n",
        "\n",
        "# Set column names as headers and format them\n",
        "for col_idx, column_name in enumerate(df1.columns):\n",
        "    cell = table.cell(0, col_idx)\n",
        "    cell.text = column_name\n",
        "\n",
        "    # Set header background color to pink\n",
        "    cell.fill.solid()\n",
        "    cell.fill.fore_color.rgb = RGBColor(255, 105, 180)  # Pink background\n",
        "\n",
        "    # Set header text color to white and bold with specific font settings\n",
        "    for paragraph in cell.text_frame.paragraphs:\n",
        "        for run in paragraph.runs:\n",
        "            run.font.color.rgb = RGBColor(255, 255, 255)  # White text\n",
        "            run.font.bold = True\n",
        "            run.font.size = Pt(18)                            # Font size set to 18\n",
        "            run.font.name = 'Century Gothic'                  # Font set to Century Gothic\n",
        "\n",
        "# Populate the table with data from the DataFrame\n",
        "for row_idx in range(df1.shape[0]):\n",
        "    for col_idx in range(df1.shape[1]):\n",
        "        cell = table.cell(row_idx + 1, col_idx)  # +1 because of header row\n",
        "\n",
        "        # Set cell text based on DataFrame value\n",
        "        cell.text = str(df1.iat[row_idx, col_idx])\n",
        "\n",
        "        # Format first column values (data)\n",
        "        if col_idx == 0:  # First column formatting (CHANNELS)\n",
        "            for paragraph in cell.text_frame.paragraphs:\n",
        "                for run in paragraph.runs:\n",
        "                    run.font.color.rgb = RGBColor(255, 255, 255)  # White text for first column values\n",
        "                    run.font.bold = True                              # Bold text for first column values\n",
        "                    run.font.size = Pt(18)                           # Font size set to 18\n",
        "                    run.font.name = 'Century Gothic'                 # Font set to Century Gothic\n",
        "\n",
        "        # Format other cells (rest of columns)\n",
        "        else:\n",
        "            for paragraph in cell.text_frame.paragraphs:\n",
        "                for run in paragraph.runs:\n",
        "                    run.font.color.rgb = RGBColor(255, 255, 255)  # White text for other cells\n",
        "                    run.font.size = Pt(18)                         # Font size set to 18\n",
        "                    run.font.name = 'Century Gothic'               # Font set to Century Gothic\n",
        "\n",
        "# Save the modified presentation\n",
        "output_ppt_path = 'modified_presentation.pptx'\n",
        "presentation.save(output_ppt_path)\n",
        "\n",
        "print(f\"Modified presentation saved as {output_ppt_path}\")\n",
        "\n",
        "# Step to download the modified presentation to your local machine\n",
        "files.download(output_ppt_path)"
      ],
      "metadata": {
        "colab": {
          "base_uri": "https://localhost:8080/",
          "height": 108
        },
        "id": "QZ5_FXe-McOB",
        "outputId": "f02bd30f-c77d-412f-eadb-074597026b5d"
      },
      "execution_count": 21,
      "outputs": [
        {
          "output_type": "display_data",
          "data": {
            "text/plain": [
              "<IPython.core.display.HTML object>"
            ],
            "text/html": [
              "\n",
              "     <input type=\"file\" id=\"files-8a01fcf1-6ead-4789-8308-5d2fdb042d6d\" name=\"files[]\" multiple disabled\n",
              "        style=\"border:none\" />\n",
              "     <output id=\"result-8a01fcf1-6ead-4789-8308-5d2fdb042d6d\">\n",
              "      Upload widget is only available when the cell has been executed in the\n",
              "      current browser session. Please rerun this cell to enable.\n",
              "      </output>\n",
              "      <script>// Copyright 2017 Google LLC\n",
              "//\n",
              "// Licensed under the Apache License, Version 2.0 (the \"License\");\n",
              "// you may not use this file except in compliance with the License.\n",
              "// You may obtain a copy of the License at\n",
              "//\n",
              "//      http://www.apache.org/licenses/LICENSE-2.0\n",
              "//\n",
              "// Unless required by applicable law or agreed to in writing, software\n",
              "// distributed under the License is distributed on an \"AS IS\" BASIS,\n",
              "// WITHOUT WARRANTIES OR CONDITIONS OF ANY KIND, either express or implied.\n",
              "// See the License for the specific language governing permissions and\n",
              "// limitations under the License.\n",
              "\n",
              "/**\n",
              " * @fileoverview Helpers for google.colab Python module.\n",
              " */\n",
              "(function(scope) {\n",
              "function span(text, styleAttributes = {}) {\n",
              "  const element = document.createElement('span');\n",
              "  element.textContent = text;\n",
              "  for (const key of Object.keys(styleAttributes)) {\n",
              "    element.style[key] = styleAttributes[key];\n",
              "  }\n",
              "  return element;\n",
              "}\n",
              "\n",
              "// Max number of bytes which will be uploaded at a time.\n",
              "const MAX_PAYLOAD_SIZE = 100 * 1024;\n",
              "\n",
              "function _uploadFiles(inputId, outputId) {\n",
              "  const steps = uploadFilesStep(inputId, outputId);\n",
              "  const outputElement = document.getElementById(outputId);\n",
              "  // Cache steps on the outputElement to make it available for the next call\n",
              "  // to uploadFilesContinue from Python.\n",
              "  outputElement.steps = steps;\n",
              "\n",
              "  return _uploadFilesContinue(outputId);\n",
              "}\n",
              "\n",
              "// This is roughly an async generator (not supported in the browser yet),\n",
              "// where there are multiple asynchronous steps and the Python side is going\n",
              "// to poll for completion of each step.\n",
              "// This uses a Promise to block the python side on completion of each step,\n",
              "// then passes the result of the previous step as the input to the next step.\n",
              "function _uploadFilesContinue(outputId) {\n",
              "  const outputElement = document.getElementById(outputId);\n",
              "  const steps = outputElement.steps;\n",
              "\n",
              "  const next = steps.next(outputElement.lastPromiseValue);\n",
              "  return Promise.resolve(next.value.promise).then((value) => {\n",
              "    // Cache the last promise value to make it available to the next\n",
              "    // step of the generator.\n",
              "    outputElement.lastPromiseValue = value;\n",
              "    return next.value.response;\n",
              "  });\n",
              "}\n",
              "\n",
              "/**\n",
              " * Generator function which is called between each async step of the upload\n",
              " * process.\n",
              " * @param {string} inputId Element ID of the input file picker element.\n",
              " * @param {string} outputId Element ID of the output display.\n",
              " * @return {!Iterable<!Object>} Iterable of next steps.\n",
              " */\n",
              "function* uploadFilesStep(inputId, outputId) {\n",
              "  const inputElement = document.getElementById(inputId);\n",
              "  inputElement.disabled = false;\n",
              "\n",
              "  const outputElement = document.getElementById(outputId);\n",
              "  outputElement.innerHTML = '';\n",
              "\n",
              "  const pickedPromise = new Promise((resolve) => {\n",
              "    inputElement.addEventListener('change', (e) => {\n",
              "      resolve(e.target.files);\n",
              "    });\n",
              "  });\n",
              "\n",
              "  const cancel = document.createElement('button');\n",
              "  inputElement.parentElement.appendChild(cancel);\n",
              "  cancel.textContent = 'Cancel upload';\n",
              "  const cancelPromise = new Promise((resolve) => {\n",
              "    cancel.onclick = () => {\n",
              "      resolve(null);\n",
              "    };\n",
              "  });\n",
              "\n",
              "  // Wait for the user to pick the files.\n",
              "  const files = yield {\n",
              "    promise: Promise.race([pickedPromise, cancelPromise]),\n",
              "    response: {\n",
              "      action: 'starting',\n",
              "    }\n",
              "  };\n",
              "\n",
              "  cancel.remove();\n",
              "\n",
              "  // Disable the input element since further picks are not allowed.\n",
              "  inputElement.disabled = true;\n",
              "\n",
              "  if (!files) {\n",
              "    return {\n",
              "      response: {\n",
              "        action: 'complete',\n",
              "      }\n",
              "    };\n",
              "  }\n",
              "\n",
              "  for (const file of files) {\n",
              "    const li = document.createElement('li');\n",
              "    li.append(span(file.name, {fontWeight: 'bold'}));\n",
              "    li.append(span(\n",
              "        `(${file.type || 'n/a'}) - ${file.size} bytes, ` +\n",
              "        `last modified: ${\n",
              "            file.lastModifiedDate ? file.lastModifiedDate.toLocaleDateString() :\n",
              "                                    'n/a'} - `));\n",
              "    const percent = span('0% done');\n",
              "    li.appendChild(percent);\n",
              "\n",
              "    outputElement.appendChild(li);\n",
              "\n",
              "    const fileDataPromise = new Promise((resolve) => {\n",
              "      const reader = new FileReader();\n",
              "      reader.onload = (e) => {\n",
              "        resolve(e.target.result);\n",
              "      };\n",
              "      reader.readAsArrayBuffer(file);\n",
              "    });\n",
              "    // Wait for the data to be ready.\n",
              "    let fileData = yield {\n",
              "      promise: fileDataPromise,\n",
              "      response: {\n",
              "        action: 'continue',\n",
              "      }\n",
              "    };\n",
              "\n",
              "    // Use a chunked sending to avoid message size limits. See b/62115660.\n",
              "    let position = 0;\n",
              "    do {\n",
              "      const length = Math.min(fileData.byteLength - position, MAX_PAYLOAD_SIZE);\n",
              "      const chunk = new Uint8Array(fileData, position, length);\n",
              "      position += length;\n",
              "\n",
              "      const base64 = btoa(String.fromCharCode.apply(null, chunk));\n",
              "      yield {\n",
              "        response: {\n",
              "          action: 'append',\n",
              "          file: file.name,\n",
              "          data: base64,\n",
              "        },\n",
              "      };\n",
              "\n",
              "      let percentDone = fileData.byteLength === 0 ?\n",
              "          100 :\n",
              "          Math.round((position / fileData.byteLength) * 100);\n",
              "      percent.textContent = `${percentDone}% done`;\n",
              "\n",
              "    } while (position < fileData.byteLength);\n",
              "  }\n",
              "\n",
              "  // All done.\n",
              "  yield {\n",
              "    response: {\n",
              "      action: 'complete',\n",
              "    }\n",
              "  };\n",
              "}\n",
              "\n",
              "scope.google = scope.google || {};\n",
              "scope.google.colab = scope.google.colab || {};\n",
              "scope.google.colab._files = {\n",
              "  _uploadFiles,\n",
              "  _uploadFilesContinue,\n",
              "};\n",
              "})(self);\n",
              "</script> "
            ]
          },
          "metadata": {}
        },
        {
          "output_type": "stream",
          "name": "stdout",
          "text": [
            "Saving OmiChannel.pptx to OmiChannel (7).pptx\n",
            "Uploaded file: OmiChannel (7).pptx\n",
            "Modified presentation saved as modified_presentation.pptx\n"
          ]
        },
        {
          "output_type": "display_data",
          "data": {
            "text/plain": [
              "<IPython.core.display.Javascript object>"
            ],
            "application/javascript": [
              "\n",
              "    async function download(id, filename, size) {\n",
              "      if (!google.colab.kernel.accessAllowed) {\n",
              "        return;\n",
              "      }\n",
              "      const div = document.createElement('div');\n",
              "      const label = document.createElement('label');\n",
              "      label.textContent = `Downloading \"${filename}\": `;\n",
              "      div.appendChild(label);\n",
              "      const progress = document.createElement('progress');\n",
              "      progress.max = size;\n",
              "      div.appendChild(progress);\n",
              "      document.body.appendChild(div);\n",
              "\n",
              "      const buffers = [];\n",
              "      let downloaded = 0;\n",
              "\n",
              "      const channel = await google.colab.kernel.comms.open(id);\n",
              "      // Send a message to notify the kernel that we're ready.\n",
              "      channel.send({})\n",
              "\n",
              "      for await (const message of channel.messages) {\n",
              "        // Send a message to notify the kernel that we're ready.\n",
              "        channel.send({})\n",
              "        if (message.buffers) {\n",
              "          for (const buffer of message.buffers) {\n",
              "            buffers.push(buffer);\n",
              "            downloaded += buffer.byteLength;\n",
              "            progress.value = downloaded;\n",
              "          }\n",
              "        }\n",
              "      }\n",
              "      const blob = new Blob(buffers, {type: 'application/binary'});\n",
              "      const a = document.createElement('a');\n",
              "      a.href = window.URL.createObjectURL(blob);\n",
              "      a.download = filename;\n",
              "      div.appendChild(a);\n",
              "      a.click();\n",
              "      div.remove();\n",
              "    }\n",
              "  "
            ]
          },
          "metadata": {}
        },
        {
          "output_type": "display_data",
          "data": {
            "text/plain": [
              "<IPython.core.display.Javascript object>"
            ],
            "application/javascript": [
              "download(\"download_120b1bfc-7fc1-4373-b02d-fedb9433fb0f\", \"modified_presentation.pptx\", 525877)"
            ]
          },
          "metadata": {}
        }
      ]
    },
    {
      "cell_type": "code",
      "source": [
        "import pandas as pd\n",
        "from pptx import Presentation\n",
        "from pptx.util import Inches, Pt, Cm, PP_ALIGN  # Import PP_ALIGN for text alignment\n",
        "from pptx.dml.color import RGBColor\n",
        "from google.colab import files\n",
        "\n",
        "# Step 1: Upload the PowerPoint file\n",
        "uploaded = files.upload()\n",
        "\n",
        "# Get the filename of the uploaded file\n",
        "for filename in uploaded.keys():\n",
        "    print(f'Uploaded file: {filename}')\n",
        "    ppt_file_path = filename  # Store the filename for later use\n",
        "\n",
        "# Step 2: Load the uploaded PowerPoint presentation\n",
        "presentation = Presentation(ppt_file_path)\n",
        "\n",
        "# Step 3: Access the first slide in the presentation\n",
        "slide = presentation.slides[0]  # Accessing the first slide (index 0)\n",
        "\n",
        "# Get slide dimensions\n",
        "slide_width = presentation.slide_width\n",
        "slide_height = presentation.slide_height\n",
        "\n",
        "# Define table dimensions and position dynamically based on slide size\n",
        "rows, cols = df1.shape[0] + 1, df1.shape[1]  # +1 for header row\n",
        "table_width = Cm(47)   # Set desired width of the table\n",
        "table_height = Cm(14)  # Set desired height of the table\n",
        "# Center horizontally and set top position (e.g., 10% from top)\n",
        "left = (slide_width - table_width) / 2  # Center horizontally\n",
        "top = (slide_height - table_height) / 2 # Center vertically\n",
        "\n",
        "# Add a table to the first slide\n",
        "table = slide.shapes.add_table(rows, cols, left, top, table_width, table_height).table\n",
        "\n",
        "# Set column names as headers and format them\n",
        "for col_idx, column_name in enumerate(df1.columns):\n",
        "    cell = table.cell(0, col_idx)\n",
        "    cell.text = column_name\n",
        "\n",
        "    # Set header background color to pink\n",
        "    cell.fill.solid()\n",
        "    cell.fill.fore_color.rgb = RGBColor(255, 105, 180)  # Pink background\n",
        "\n",
        "    # Set header text color to white and bold with specific font settings\n",
        "    for paragraph in cell.text_frame.paragraphs:\n",
        "        for run in paragraph.runs:\n",
        "            run.font.color.rgb = RGBColor(255, 255, 255)  # White text\n",
        "            run.font.bold = True\n",
        "            run.font.size = Pt(18)                            # Font size set to 18\n",
        "            run.font.name = 'Century Gothic'                  # Font set to Century Gothic\n",
        "\n",
        "# Populate the table with data from the DataFrame\n",
        "for row_idx in range(df1.shape[0]):\n",
        "    for col_idx in range(df1.shape[1]):\n",
        "        cell = table.cell(row_idx + 1, col_idx)  # +1 because of header row\n",
        "\n",
        "        # Set cell text based on DataFrame value\n",
        "        cell.text = str(df1.iat[row_idx, col_idx])\n",
        "\n",
        "        # Format first column values (data)\n",
        "        if col_idx == 0:  # First column formatting (CHANNELS)\n",
        "            for paragraph in cell.text_frame.paragraphs:\n",
        "                for run in paragraph.runs:\n",
        "                    run.font.color.rgb = RGBColor(0, 0, 0)      # Black text for first column values\n",
        "                    run.font.bold = True                          # Bold text for first column values\n",
        "                    run.font.size = Pt(18)                       # Font size set to 18\n",
        "                    run.font.name = 'Century Gothic'             # Font set to Century Gothic\n",
        "\n",
        "        # Format other cells (rest of columns)\n",
        "        else:\n",
        "            for paragraph in cell.text_frame.paragraphs:\n",
        "                for run in paragraph.runs:\n",
        "                    run.font.color.rgb = RGBColor(0, 0, 0)      # Black text for other cells\n",
        "                    run.font.size = Pt(18)                       # Font size set to 18\n",
        "                    run.font.name = 'Century Gothic'             # Font set to Century Gothic\n",
        "\n",
        "        # Center align all text in cells\n",
        "        for paragraph in cell.text_frame.paragraphs:\n",
        "            paragraph.alignment = PP_ALIGN.CENTER           # Center align text\n",
        "\n",
        "# Save the modified presentation\n",
        "output_ppt_path = 'modified_presentation.pptx'\n",
        "presentation.save(output_ppt_path)\n",
        "\n",
        "print(f\"Modified presentation saved as {output_ppt_path}\")\n",
        "\n",
        "# Step to download the modified presentation to your local machine\n",
        "files.download(output_ppt_path)"
      ],
      "metadata": {
        "colab": {
          "base_uri": "https://localhost:8080/",
          "height": 349
        },
        "id": "PhlPqMp8PPqM",
        "outputId": "e015ed5e-4bb0-4fa2-d263-1300db01f309"
      },
      "execution_count": 37,
      "outputs": [
        {
          "ename": "ImportError",
          "evalue": "cannot import name 'PP_ALIGN' from 'pptx.util' (/usr/local/lib/python3.10/dist-packages/pptx/util.py)",
          "output_type": "error",
          "traceback": [
            "\u001b[0;31m---------------------------------------------------------------------------\u001b[0m",
            "\u001b[0;31mImportError\u001b[0m                               Traceback (most recent call last)",
            "\u001b[0;32m<ipython-input-37-6cf47a14edaa>\u001b[0m in \u001b[0;36m<cell line: 3>\u001b[0;34m()\u001b[0m\n\u001b[1;32m      1\u001b[0m \u001b[0;32mimport\u001b[0m \u001b[0mpandas\u001b[0m \u001b[0;32mas\u001b[0m \u001b[0mpd\u001b[0m\u001b[0;34m\u001b[0m\u001b[0;34m\u001b[0m\u001b[0m\n\u001b[1;32m      2\u001b[0m \u001b[0;32mfrom\u001b[0m \u001b[0mpptx\u001b[0m \u001b[0;32mimport\u001b[0m \u001b[0mPresentation\u001b[0m\u001b[0;34m\u001b[0m\u001b[0;34m\u001b[0m\u001b[0m\n\u001b[0;32m----> 3\u001b[0;31m \u001b[0;32mfrom\u001b[0m \u001b[0mpptx\u001b[0m\u001b[0;34m.\u001b[0m\u001b[0mutil\u001b[0m \u001b[0;32mimport\u001b[0m \u001b[0mInches\u001b[0m\u001b[0;34m,\u001b[0m \u001b[0mPt\u001b[0m\u001b[0;34m,\u001b[0m \u001b[0mCm\u001b[0m\u001b[0;34m,\u001b[0m \u001b[0mPP_ALIGN\u001b[0m  \u001b[0;31m# Import PP_ALIGN for text alignment\u001b[0m\u001b[0;34m\u001b[0m\u001b[0;34m\u001b[0m\u001b[0m\n\u001b[0m\u001b[1;32m      4\u001b[0m \u001b[0;32mfrom\u001b[0m \u001b[0mpptx\u001b[0m\u001b[0;34m.\u001b[0m\u001b[0mdml\u001b[0m\u001b[0;34m.\u001b[0m\u001b[0mcolor\u001b[0m \u001b[0;32mimport\u001b[0m \u001b[0mRGBColor\u001b[0m\u001b[0;34m\u001b[0m\u001b[0;34m\u001b[0m\u001b[0m\n\u001b[1;32m      5\u001b[0m \u001b[0;32mfrom\u001b[0m \u001b[0mgoogle\u001b[0m\u001b[0;34m.\u001b[0m\u001b[0mcolab\u001b[0m \u001b[0;32mimport\u001b[0m \u001b[0mfiles\u001b[0m\u001b[0;34m\u001b[0m\u001b[0;34m\u001b[0m\u001b[0m\n",
            "\u001b[0;31mImportError\u001b[0m: cannot import name 'PP_ALIGN' from 'pptx.util' (/usr/local/lib/python3.10/dist-packages/pptx/util.py)",
            "",
            "\u001b[0;31m---------------------------------------------------------------------------\u001b[0;32m\nNOTE: If your import is failing due to a missing package, you can\nmanually install dependencies using either !pip or !apt.\n\nTo view examples of installing some common dependencies, click the\n\"Open Examples\" button below.\n\u001b[0;31m---------------------------------------------------------------------------\u001b[0m\n"
          ]
        }
      ]
    }
  ],
  "metadata": {
    "colab": {
      "name": "quickstart_colab.ipynb",
      "provenance": [],
      "include_colab_link": true
    },
    "kernelspec": {
      "display_name": "Python 3",
      "name": "python3"
    }
  },
  "nbformat": 4,
  "nbformat_minor": 0
}